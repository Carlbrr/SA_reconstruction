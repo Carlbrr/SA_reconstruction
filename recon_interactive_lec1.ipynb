{
 "cells": [
  {
   "cell_type": "markdown",
   "metadata": {},
   "source": [
    "In this notebook we extract a sourve view for the zeegu API, aka. modules and dependencies. \n",
    "This includes basic data gathering and then some extraction of the dependencies between all files (imports in .py files) in the root folder.\n",
    "At last, we draw a digraph to see the dependencies and directions of those dependencies.\n",
    "obs. every .py file is called a module in Python\n",
    "\n",
    "https://colab.research.google.com/drive/1oe_TV7936Zmmzbbgq8rzqFpxYPX7SQHP?usp=sharing#scrollTo=5JjPcuStq595"
   ]
  },
  {
   "cell_type": "code",
   "execution_count": 1,
   "metadata": {},
   "outputs": [
    {
     "name": "stdout",
     "output_type": "stream",
     "text": [
      "c:\\Users\\carl9\\OneDrive\\Skrivebord\\SA_Individual_ZeeguuAPI\n"
     ]
    }
   ],
   "source": [
    "# In Collab our notebook runs in a temporary mounted file system\n",
    "# Let's print the name of the folder where our script runs\n",
    "\n",
    "import os\n",
    "cwd = os.getcwd()\n",
    "print(cwd)\n"
   ]
  },
  {
   "cell_type": "code",
   "execution_count": 2,
   "metadata": {},
   "outputs": [],
   "source": [
    "# Let's declare a var for the path where we're going to download a repository\n",
    "# Warning: this must end in /\n",
    "CODE_ROOT_FOLDER=\"/content/zeeguu-api/\""
   ]
  },
  {
   "cell_type": "code",
   "execution_count": null,
   "metadata": {},
   "outputs": [],
   "source": [
    "from git import Repo\n",
    "# GitPython is a library that allows us to work easily with git from Python\n",
    "# https://gitpython.readthedocs.io/en/stable/tutorial.html\n",
    "\n",
    "\n",
    "# If the file exists, it means we've already downloaded\n",
    "if not os.path.exists(CODE_ROOT_FOLDER):\n",
    "  Repo.clone_from(\"https://github.com/zeeguu/api\", CODE_ROOT_FOLDER)"
   ]
  },
  {
   "cell_type": "code",
   "execution_count": null,
   "metadata": {},
   "outputs": [],
   "source": [
    "# helper function to get a file path w/o having to always provide the /content/zeeguu-api/ prefix\n",
    "def file_path(file_name):\n",
    "    return CODE_ROOT_FOLDER+file_name\n",
    "\n",
    "assert (file_path(\"zeeguu/core/model/user.py\") == \"/content/zeeguu-api/zeeguu/core/model/user.py\")\n"
   ]
  },
  {
   "cell_type": "code",
   "execution_count": null,
   "metadata": {},
   "outputs": [],
   "source": [
    "# extracting a module name from a file name\n",
    "def module_name_from_file_path(full_path):\n",
    "\n",
    "    # e.g. ../core/model/user.py -> zeeguu.core.model.user\n",
    "\n",
    "    file_name = full_path[len(CODE_ROOT_FOLDER):]\n",
    "    file_name = file_name.replace(\"/__init__.py\",\"\")\n",
    "    file_name = file_name.replace(\"/\",\".\")\n",
    "    file_name = file_name.replace(\".py\",\"\")\n",
    "    return file_name\n",
    "\n",
    "assert 'zeeguu.core.model.user' == module_name_from_file_path(file_path('zeeguu/core/model/user.py'))"
   ]
  },
  {
   "cell_type": "code",
   "execution_count": null,
   "metadata": {},
   "outputs": [],
   "source": [
    "# naïve way of extracting imports using regular expressions\n",
    "import re\n",
    "\n",
    "\n",
    "# we assume that imports are always at the\n",
    "# TODO for you: add full support for imports; this is not complete...\n",
    "def import_from_line(line):\n",
    "\n",
    "    # regex patterns used\n",
    "    #   ^  - beginning of line\n",
    "    #   \\S - anything that is not space\n",
    "    #   +  - at least one occurrence of previous\n",
    "    #  ( ) - capture group (read more at: https://pynative.com/python-regex-capturing-groups/)\n",
    "    try:\n",
    "      y = re.search(\"^from (\\S+)\", line)\n",
    "      if not y:\n",
    "        y = re.search(\"^import (\\S+)\", line)\n",
    "      return y.group(1)\n",
    "    except:\n",
    "      return None\n",
    "\n",
    "\n",
    "# extracts all the imported modules from a file\n",
    "# returns a module of the form zeeguu_core.model.bookmark, e.g.\n",
    "def imports_from_file(file):\n",
    "\n",
    "    all_imports = []\n",
    "\n",
    "    lines = [line for line in open(file)]\n",
    "\n",
    "    for line in lines:\n",
    "        imp = import_from_line(line)\n",
    "\n",
    "        if imp:\n",
    "            all_imports.append(imp)\n",
    "\n",
    "    return all_imports\n",
    "\n",
    "imports_from_file(file_path('zeeguu/core/model/user.py'))"
   ]
  },
  {
   "cell_type": "code",
   "execution_count": null,
   "metadata": {},
   "outputs": [],
   "source": [
    "# test\n",
    "print(imports_from_file(file_path('zeeguu/core/model/bookmark.py')))\n",
    "print(imports_from_file(file_path('zeeguu/core/model/unique_code.py')))"
   ]
  },
  {
   "cell_type": "code",
   "execution_count": null,
   "metadata": {},
   "outputs": [],
   "source": [
    "\"\"\" Now we extract the dependencies between all the files\n",
    "To do that we iterate over all the python files with the help of the Path.rglob function from pathlib\n",
    "\n",
    "And we create a network with the help of the networkx package. \"\"\"\n",
    "\n",
    "import pathlib\n",
    "from pathlib import Path\n",
    "import networkx as nx\n",
    "\n",
    "def dependencies_graph(code_root_folder):\n",
    "    files = Path(code_root_folder).rglob(\"*.py\")\n",
    "\n",
    "    G = nx.Graph()\n",
    "\n",
    "    for file in files:\n",
    "        file_path = str(file)\n",
    "\n",
    "        module_name = module_name_from_file_path(file_path)\n",
    "\n",
    "        if module_name not in G.nodes:\n",
    "            G.add_node(module_name)\n",
    "\n",
    "        for each in imports_from_file(file_path):\n",
    "            G.add_edge(module_name, each)\n",
    "\n",
    "    return G"
   ]
  },
  {
   "cell_type": "code",
   "execution_count": null,
   "metadata": {},
   "outputs": [],
   "source": [
    "#We do a simple drawing of all the files and their dependencies in our system\n",
    "import matplotlib.pyplot as plt\n",
    "\n",
    "# a function to draw a graph\n",
    "def draw_graph(G, size, **args):\n",
    "    plt.figure(figsize=size)\n",
    "    nx.draw(G, **args)\n",
    "    plt.show()"
   ]
  },
  {
   "cell_type": "code",
   "execution_count": null,
   "metadata": {},
   "outputs": [],
   "source": [
    "G = dependencies_graph(CODE_ROOT_FOLDER)\n",
    "draw_graph(G, (80,80), with_labels=False)"
   ]
  },
  {
   "cell_type": "code",
   "execution_count": null,
   "metadata": {},
   "outputs": [],
   "source": [
    "# However, if we think a bit more about it, we realize that a dependency graph\n",
    "# is a directed graph (e.g. module A depends on m)\n",
    "# with any kinds of graph either directed (nx.DiGraph) or\n",
    "# non-directed (nx.Graph)\n",
    "\n",
    "def dependencies_digraph(code_root_folder):\n",
    "    files = Path(code_root_folder).rglob(\"*.py\")\n",
    "\n",
    "    G = nx.DiGraph()\n",
    "\n",
    "    for file in files:\n",
    "        file_path = str(file)\n",
    "\n",
    "        source_module = module_name_from_file_path(file_path)\n",
    "\n",
    "        if source_module not in G.nodes:\n",
    "            G.add_node(source_module)\n",
    "\n",
    "        for target_module in imports_from_file(file_path):\n",
    "\n",
    "            G.add_edge(source_module, target_module)\n",
    "            # print(module_name + \"=>\" + each + \".\")\n",
    "\n",
    "    return G\n"
   ]
  },
  {
   "cell_type": "code",
   "execution_count": null,
   "metadata": {},
   "outputs": [],
   "source": [
    "# Looking at the directed graph\n",
    "DG = dependencies_digraph(CODE_ROOT_FOLDER)\n",
    "draw_graph(DG, (40,40), with_labels=True)"
   ]
  },
  {
   "cell_type": "code",
   "execution_count": null,
   "metadata": {},
   "outputs": [],
   "source": []
  }
 ],
 "metadata": {
  "kernelspec": {
   "display_name": "IoT",
   "language": "python",
   "name": "python3"
  },
  "language_info": {
   "codemirror_mode": {
    "name": "ipython",
    "version": 3
   },
   "file_extension": ".py",
   "mimetype": "text/x-python",
   "name": "python",
   "nbconvert_exporter": "python",
   "pygments_lexer": "ipython3",
   "version": "3.11.4"
  }
 },
 "nbformat": 4,
 "nbformat_minor": 2
}
